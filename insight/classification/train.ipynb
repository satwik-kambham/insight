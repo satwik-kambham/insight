{
 "cells": [
  {
   "cell_type": "code",
   "execution_count": null,
   "metadata": {},
   "outputs": [],
   "source": [
    "import torch\n",
    "\n",
    "import pytorch_lightning as pl\n",
    "from pytorch_lightning.loggers.wandb import WandbLogger\n",
    "from pytorch_lightning.loggers import TensorBoardLogger\n",
    "\n",
    "from dataloaders import load_data\n",
    "from classifier import Classifier\n",
    "\n",
    "from LeNet import LeNet5\n",
    "from AlexNet import AlexNet\n",
    "from VGG import VGG, VGG_A, VGG_B, VGG_C, VGG_D, VGG_E\n",
    "from ResNet import ResNet, RESNET_18, RESNET_34, RESNET_50, RESNET_101, RESNET_152\n",
    "from GoogLeNet import GoogLeNet"
   ]
  },
  {
   "cell_type": "code",
   "execution_count": null,
   "metadata": {},
   "outputs": [],
   "source": [
    "# Loading the dataset\n",
    "train_loader, val_loader, num_classes, img_shape, num_channels = load_data()"
   ]
  },
  {
   "cell_type": "code",
   "execution_count": null,
   "metadata": {},
   "outputs": [],
   "source": [
    "model = ..."
   ]
  },
  {
   "cell_type": "code",
   "execution_count": null,
   "metadata": {},
   "outputs": [],
   "source": [
    "test_input_size = (1, num_channels, *(_, _))\n",
    "test_input = torch.randn(test_input_size)\n",
    "_ = model(test_input)\n",
    "\n",
    "if hasattr(model, \"_init_weights\"):\n",
    "    model._init_weights()"
   ]
  },
  {
   "cell_type": "code",
   "execution_count": null,
   "metadata": {},
   "outputs": [],
   "source": [
    "model = torch.compile(model)"
   ]
  },
  {
   "cell_type": "code",
   "execution_count": null,
   "metadata": {},
   "outputs": [],
   "source": [
    "classifier = Classifier(model, num_classes)\n",
    "\n",
    "wandb_logger = WandbLogger(project=\"cnn-architectures\")\n",
    "tensorboard_logger = TensorBoardLogger(\"tensorboard_logs/\")\n",
    "\n",
    "trainer = pl.Trainer(\n",
    "    logger=[wandb_logger, tensorboard_logger],\n",
    ")\n",
    "\n",
    "trainer.fit(classifier, train_loader, val_loader)"
   ]
  }
 ],
 "metadata": {
  "language_info": {
   "name": "python"
  },
  "orig_nbformat": 4
 },
 "nbformat": 4,
 "nbformat_minor": 2
}
